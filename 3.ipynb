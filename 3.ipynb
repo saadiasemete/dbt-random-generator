{
 "cells": [
  {
   "cell_type": "code",
   "execution_count": 47,
   "id": "7c47ab25",
   "metadata": {},
   "outputs": [
    {
     "data": {
      "text/plain": [
       "<networkx.classes.graph.Graph at 0x2f1ca303d90>"
      ]
     },
     "execution_count": 47,
     "metadata": {},
     "output_type": "execute_result"
    }
   ],
   "source": [
    "from src.table import Table, Column\n",
    "from src.column_transformations import Transformation\n",
    "from src.settings import SQLType\n",
    "from src.utils import randstr\n",
    "import random \n",
    "\n",
    "\n",
    "seed = Table.generate_seed(1, 6, 6)\n",
    "graph = seed.represent_as_graph()\n",
    "graph "
   ]
  },
  {
   "cell_type": "code",
   "execution_count": 48,
   "id": "00771662",
   "metadata": {},
   "outputs": [
    {
     "data": {
      "text/plain": [
       "[BxwFTblkvLBDzoGp.GCyjomFAiMCKeMjt,\n",
       " BxwFTblkvLBDzoGp.NJVdjPTachPWpGhQ,\n",
       " BxwFTblkvLBDzoGp.lzMPbCQqcurbqeKk,\n",
       " BxwFTblkvLBDzoGp.ZgrojptCqOMFVEwG,\n",
       " BxwFTblkvLBDzoGp.DLFUuygTBVCUMuPp,\n",
       " BxwFTblkvLBDzoGp.SDDZTBnOeABEuYCs,\n",
       " BxwFTblkvLBDzoGp.ttMlMitbDCgFYXwo]"
      ]
     },
     "execution_count": 48,
     "metadata": {},
     "output_type": "execute_result"
    }
   ],
   "source": [
    "related_columns: list[Column] = [col for col, col_meta in graph[seed].items() if col_meta.get('label') == 'makes_up']\n",
    "related_columns"
   ]
  },
  {
   "cell_type": "code",
   "execution_count": null,
   "id": "0e2f046f",
   "metadata": {},
   "outputs": [],
   "source": [
    "new_table_name = randstr()\n",
    "graph.add_node(\n",
    "    Table(\n",
    "        new_table_name,\n",
    "        'model',\n",
    "        [],\n",
    "    )\n",
    ")"
   ]
  },
  {
   "cell_type": "code",
   "execution_count": null,
   "id": "99d7707d",
   "metadata": {},
   "outputs": [
    {
     "data": {
      "text/plain": [
       "{<SQLType.INT: 'int'>: [BxwFTblkvLBDzoGp.NJVdjPTachPWpGhQ],\n",
       " <SQLType.STRING: 'string'>: [BxwFTblkvLBDzoGp.lzMPbCQqcurbqeKk],\n",
       " <SQLType.FLOAT: 'float'>: [BxwFTblkvLBDzoGp.ZgrojptCqOMFVEwG,\n",
       "  BxwFTblkvLBDzoGp.DLFUuygTBVCUMuPp,\n",
       "  BxwFTblkvLBDzoGp.SDDZTBnOeABEuYCs,\n",
       "  BxwFTblkvLBDzoGp.ttMlMitbDCgFYXwo]}"
      ]
     },
     "execution_count": 49,
     "metadata": {},
     "output_type": "execute_result"
    }
   ],
   "source": [
    "\n",
    "\n",
    "\n",
    "related_columns_classified = dict()\n",
    "for column in related_columns:\n",
    "    if not column.is_pk:\n",
    "        related_columns_classified.setdefault(column.type, []).append(column)\n",
    "related_columns_classified"
   ]
  },
  {
   "cell_type": "code",
   "execution_count": 50,
   "id": "2da0cba5",
   "metadata": {},
   "outputs": [],
   "source": [
    "for transformation in Transformation.__subclasses__():\n",
    "    pass "
   ]
  },
  {
   "cell_type": "code",
   "execution_count": 51,
   "id": "0a64ce4c",
   "metadata": {},
   "outputs": [
    {
     "data": {
      "text/plain": [
       "[BxwFTblkvLBDzoGp.NJVdjPTachPWpGhQ,\n",
       " BxwFTblkvLBDzoGp.lzMPbCQqcurbqeKk,\n",
       " BxwFTblkvLBDzoGp.ZgrojptCqOMFVEwG,\n",
       " BxwFTblkvLBDzoGp.DLFUuygTBVCUMuPp,\n",
       " BxwFTblkvLBDzoGp.SDDZTBnOeABEuYCs]"
      ]
     },
     "execution_count": 51,
     "metadata": {},
     "output_type": "execute_result"
    }
   ],
   "source": [
    "chance_to_keep_column = 0.9\n",
    "columns_to_stay = [col for col in related_columns if not col.is_pk and random.random()<=chance_to_keep_column]\n",
    "columns_to_stay"
   ]
  },
  {
   "cell_type": "code",
   "execution_count": 52,
   "id": "037645e0",
   "metadata": {},
   "outputs": [
    {
     "data": {
      "text/plain": [
       "7"
      ]
     },
     "execution_count": 52,
     "metadata": {},
     "output_type": "execute_result"
    }
   ],
   "source": [
    "transformation_number_coeff = 2\n",
    "transformation_number = random.randint(0, round(transformation_number_coeff*len(related_columns)))\n",
    "transformation_number"
   ]
  },
  {
   "cell_type": "code",
   "execution_count": 55,
   "id": "5f9687ea",
   "metadata": {},
   "outputs": [
    {
     "data": {
      "text/plain": [
       "[{'transformation': src.column_transformations.tr_Least,\n",
       "  'columns': [BxwFTblkvLBDzoGp.NJVdjPTachPWpGhQ,\n",
       "   BxwFTblkvLBDzoGp.DLFUuygTBVCUMuPp],\n",
       "  'new_column_name': 'ygvbYMhhhQFVVstl'},\n",
       " {'transformation': src.column_transformations.tr_Least,\n",
       "  'columns': [BxwFTblkvLBDzoGp.SDDZTBnOeABEuYCs,\n",
       "   BxwFTblkvLBDzoGp.ttMlMitbDCgFYXwo],\n",
       "  'new_column_name': 'vtQEkGmlSRRkcLzb'},\n",
       " {'transformation': src.column_transformations.tr_Least,\n",
       "  'columns': [BxwFTblkvLBDzoGp.ZgrojptCqOMFVEwG,\n",
       "   BxwFTblkvLBDzoGp.SDDZTBnOeABEuYCs],\n",
       "  'new_column_name': 'uTceLzCEtfBShkiP'},\n",
       " {'transformation': src.column_transformations.tr_Greatest,\n",
       "  'columns': [BxwFTblkvLBDzoGp.ZgrojptCqOMFVEwG,\n",
       "   BxwFTblkvLBDzoGp.lzMPbCQqcurbqeKk],\n",
       "  'new_column_name': 'yffaasxFXygOiUDJ'},\n",
       " {'transformation': src.column_transformations.tr_Least,\n",
       "  'columns': [BxwFTblkvLBDzoGp.ZgrojptCqOMFVEwG,\n",
       "   BxwFTblkvLBDzoGp.SDDZTBnOeABEuYCs],\n",
       "  'new_column_name': 'yLoMbgpbAOJvKQKI'},\n",
       " {'transformation': src.column_transformations.tr_Greatest,\n",
       "  'columns': [BxwFTblkvLBDzoGp.lzMPbCQqcurbqeKk,\n",
       "   BxwFTblkvLBDzoGp.ZgrojptCqOMFVEwG],\n",
       "  'new_column_name': 'fPZBTLCEbArrtqno'},\n",
       " {'transformation': src.column_transformations.tr_Greatest,\n",
       "  'columns': [BxwFTblkvLBDzoGp.GCyjomFAiMCKeMjt,\n",
       "   BxwFTblkvLBDzoGp.GCyjomFAiMCKeMjt],\n",
       "  'new_column_name': 'buLoHYnjohKWGmYX'}]"
      ]
     },
     "execution_count": 55,
     "metadata": {},
     "output_type": "execute_result"
    }
   ],
   "source": [
    "# for _ in range(transformation_number):\n",
    "\n",
    "\n",
    "def select_transformation(related_columns_classified: dict[SQLType, list[Column]], \n",
    "                          type_: SQLType, \n",
    "                          lower_col_number:int=1, \n",
    "                          upper_col_number:int|None=None) -> tuple[Transformation, int]:\n",
    "    \n",
    "    if upper_col_number is None: \n",
    "        upper_col_number = len(related_columns_classified[type_])\n",
    "    affected_columns = random.randint(lower_col_number, upper_col_number)\n",
    "\n",
    "    potential_transformations = []\n",
    "    min_arity = 999\n",
    "    max_arity = -1\n",
    "\n",
    "    for t in Transformation.__subclasses__():\n",
    "        if type_ in t.main_type_bounds:\n",
    "            if t.arity[0] > affected_columns or t.arity[1] != 0 and t.arity[1] < affected_columns:\n",
    "                min_arity = min(min_arity, t.arity[0])\n",
    "                max_arity = max(max_arity, t.arity[1])\n",
    "            else:\n",
    "                potential_transformations.append(t)\n",
    "    \n",
    "    if len(potential_transformations) == 0:\n",
    "        return select_transformation(related_columns_classified, type_, min_arity, max_arity)\n",
    "    else:\n",
    "        return random.choice(potential_transformations), affected_columns\n",
    "\n",
    "transformations: list[dict[str, list[Column]|Transformation]] = []\n",
    "\n",
    "for _ in range(transformation_number):\n",
    "    \n",
    "    transformation, affected_columns = select_transformation(\n",
    "        related_columns_classified,\n",
    "        random.choice([type_ for type_ in related_columns_classified])\n",
    "        )\n",
    "    transformations.append({\n",
    "        'transformation': transformation,\n",
    "        'columns': random.choices(related_columns, k=affected_columns),\n",
    "        'new_column_name': randstr()\n",
    "    })\n",
    "\n",
    "transformations\n"
   ]
  },
  {
   "cell_type": "code",
   "execution_count": 58,
   "id": "1f725d27",
   "metadata": {},
   "outputs": [
    {
     "data": {
      "text/plain": [
       "NodeView((BxwFTblkvLBDzoGp, BxwFTblkvLBDzoGp.GCyjomFAiMCKeMjt, BxwFTblkvLBDzoGp.NJVdjPTachPWpGhQ, BxwFTblkvLBDzoGp.lzMPbCQqcurbqeKk, BxwFTblkvLBDzoGp.ZgrojptCqOMFVEwG, BxwFTblkvLBDzoGp.DLFUuygTBVCUMuPp, BxwFTblkvLBDzoGp.SDDZTBnOeABEuYCs, BxwFTblkvLBDzoGp.ttMlMitbDCgFYXwo))"
      ]
     },
     "execution_count": 58,
     "metadata": {},
     "output_type": "execute_result"
    }
   ],
   "source": [
    "graph.nodes"
   ]
  },
  {
   "cell_type": "code",
   "execution_count": null,
   "id": "703a826f",
   "metadata": {},
   "outputs": [],
   "source": [
    "\n",
    "\n",
    "for transformation_metadata in transformations:\n",
    "    transformation_instance = transformation_metadata[transformation]()\n",
    "    graph.add_node(transformation_instance)\n",
    "    for column in transformation['columns']:\n",
    "        graph.add_edge(column, transformation_instance, label='goes_to')\n",
    "        graph.add_edge(transformation_instance, column, label='argument')\n",
    "    resulting_column = Column(\n",
    "        name=randstr(),\n",
    "        type = transformation_metadata[transformation].return_type,\n",
    "        table_name=new_table_name,\n",
    "    )\n",
    "        \n",
    "    graph[transformation[]]"
   ]
  }
 ],
 "metadata": {
  "kernelspec": {
   "display_name": ".venv",
   "language": "python",
   "name": "python3"
  },
  "language_info": {
   "codemirror_mode": {
    "name": "ipython",
    "version": 3
   },
   "file_extension": ".py",
   "mimetype": "text/x-python",
   "name": "python",
   "nbconvert_exporter": "python",
   "pygments_lexer": "ipython3",
   "version": "3.13.5"
  }
 },
 "nbformat": 4,
 "nbformat_minor": 5
}
