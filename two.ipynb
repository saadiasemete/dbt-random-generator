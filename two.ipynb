{
 "cells": [
  {
   "cell_type": "code",
   "execution_count": 19,
   "id": "27262bf1",
   "metadata": {},
   "outputs": [],
   "source": [
    "import random \n",
    "from os import urandom"
   ]
  },
  {
   "cell_type": "code",
   "execution_count": 74,
   "id": "e25e8e3d",
   "metadata": {},
   "outputs": [
    {
     "data": {
      "text/plain": [
       "'Y'"
      ]
     },
     "execution_count": 74,
     "metadata": {},
     "output_type": "execute_result"
    }
   ],
   "source": [
    "def generate_random_letter():\n",
    "    A = 65 \n",
    "    Z = 90\n",
    "    a = 97\n",
    "    z = 122\n",
    "    return chr(random.choice([random.randint(A, Z), random.randint(a, z)]))\n",
    "\n",
    "generate_random_letter()"
   ]
  },
  {
   "cell_type": "code",
   "execution_count": 75,
   "id": "9722e690",
   "metadata": {},
   "outputs": [
    {
     "data": {
      "text/plain": [
       "'KzMVUXAqZVDrEfIm'"
      ]
     },
     "execution_count": 75,
     "metadata": {},
     "output_type": "execute_result"
    }
   ],
   "source": [
    "def randstr(len: int=16) -> str:\n",
    "    return ''.join(generate_random_letter() for _ in range(len))\n",
    "\n",
    "randstr()"
   ]
  },
  {
   "cell_type": "code",
   "execution_count": 76,
   "id": "5ea4772d",
   "metadata": {},
   "outputs": [
    {
     "data": {
      "text/plain": [
       "{'name': 'psIWZtgqgDMayWKT', 'type': 'str'}"
      ]
     },
     "execution_count": 76,
     "metadata": {},
     "output_type": "execute_result"
    }
   ],
   "source": [
    "def generate_field_name_type(types: list=['str', 'int', 'float']):\n",
    "    return {\n",
    "        'name': randstr(),\n",
    "        'type': random.choice(types),\n",
    "    }\n",
    "\n",
    "generate_field_name_type()"
   ]
  },
  {
   "cell_type": "code",
   "execution_count": 78,
   "id": "c44f87bb",
   "metadata": {},
   "outputs": [
    {
     "data": {
      "text/plain": [
       "-1.7176860527883906"
      ]
     },
     "execution_count": 78,
     "metadata": {},
     "output_type": "execute_result"
    }
   ],
   "source": [
    "def random_piece_of_data(type_: str):\n",
    "    match type_:\n",
    "        case 'str':\n",
    "            return randstr()\n",
    "        case 'int':\n",
    "            return random.randint(-127, 128)\n",
    "        case 'float':\n",
    "            return random_piece_of_data('int')*random.random()\n",
    "        case _:\n",
    "            raise NotImplementedError(type_)\n",
    "\n",
    "random_piece_of_data('float')"
   ]
  },
  {
   "cell_type": "code",
   "execution_count": null,
   "id": "9d03a242",
   "metadata": {},
   "outputs": [
    {
     "data": {
      "text/plain": [
       "140725194278472"
      ]
     },
     "execution_count": 80,
     "metadata": {},
     "output_type": "execute_result"
    }
   ],
   "source": [
    "class Column:\n",
    "    def __hash__(self):\n",
    "        return id(self)\n",
    "    \n",
    "    def __init__(self, name: str, type: str, is_pk: bool=False, **kwargs):\n",
    "        self.name = name \n",
    "        self.type = type \n",
    "        self.is_pk = is_pk \n",
    "    \n",
    "    @classmethod \n",
    "    def generate_field_name_type()"
   ]
  },
  {
   "cell_type": "code",
   "execution_count": null,
   "id": "e474f85f",
   "metadata": {},
   "outputs": [],
   "source": []
  },
  {
   "cell_type": "code",
   "execution_count": null,
   "id": "a698e736",
   "metadata": {},
   "outputs": [],
   "source": []
  },
  {
   "cell_type": "code",
   "execution_count": null,
   "id": "33f54f8d",
   "metadata": {},
   "outputs": [],
   "source": [
    "def generate_seed_schema(pk_n: int=1, fields_n_min: int=2, fields_n_max: int=5):\n",
    "    fields_n = random.randint(fields_n_min, fields_n_max)\n",
    "    pk, fields = list(), list()\n",
    "    for _ in range(pk_n):\n",
    "        pk.append(generate_field_name_type(types=['str', 'int']))\n",
    "    for _ in range(fields_n):\n",
    "        fields.append(generate_field_name_type())"
   ]
  }
 ],
 "metadata": {
  "kernelspec": {
   "display_name": ".venv",
   "language": "python",
   "name": "python3"
  },
  "language_info": {
   "codemirror_mode": {
    "name": "ipython",
    "version": 3
   },
   "file_extension": ".py",
   "mimetype": "text/x-python",
   "name": "python",
   "nbconvert_exporter": "python",
   "pygments_lexer": "ipython3",
   "version": "3.13.5"
  }
 },
 "nbformat": 4,
 "nbformat_minor": 5
}
