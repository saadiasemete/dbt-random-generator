{
 "cells": [
  {
   "cell_type": "code",
   "execution_count": 14,
   "id": "7c47ab25",
   "metadata": {},
   "outputs": [],
   "source": [
    "from src.table import Table, Column\n",
    "from src.column_transformations import Transformation\n",
    "from src.settings import SQLType\n",
    "from src.utils import randstr\n",
    "from src.relmap import Relmap\n",
    "import random \n",
    "\n"
   ]
  },
  {
   "cell_type": "code",
   "execution_count": 15,
   "id": "0b10246e",
   "metadata": {},
   "outputs": [
    {
     "data": {
      "text/plain": [
       "qbucXskHesofamjj"
      ]
     },
     "execution_count": 15,
     "metadata": {},
     "output_type": "execute_result"
    }
   ],
   "source": [
    "\n",
    "graph = Relmap()\n",
    "graph.generate_random_seeds()\n",
    "seed = graph.get_all_tables('seed')[0]\n",
    "seed"
   ]
  },
  {
   "cell_type": "code",
   "execution_count": 16,
   "id": "00771662",
   "metadata": {},
   "outputs": [
    {
     "data": {
      "text/plain": [
       "[qbucXskHesofamjj.rwWkAMSKZqpqUbKi,\n",
       " qbucXskHesofamjj.kqhNvdTpJngTeIgK,\n",
       " qbucXskHesofamjj.mpotBNOFUFAecwjr]"
      ]
     },
     "execution_count": 16,
     "metadata": {},
     "output_type": "execute_result"
    }
   ],
   "source": [
    "\n",
    "related_columns: list[Column] = [col for col, col_meta in graph[seed].items() if col_meta.get('label') == 'makes_up']\n",
    "related_columns"
   ]
  },
  {
   "cell_type": "code",
   "execution_count": 17,
   "id": "0e2f046f",
   "metadata": {},
   "outputs": [],
   "source": [
    "new_table = Table(\n",
    "        randstr(),\n",
    "        'model',\n",
    "    )\n",
    "graph.add_node(\n",
    "    new_table\n",
    ")"
   ]
  },
  {
   "cell_type": "code",
   "execution_count": 18,
   "id": "99d7707d",
   "metadata": {},
   "outputs": [
    {
     "data": {
      "text/plain": [
       "{<SQLType.STRING: 'string'>: [qbucXskHesofamjj.kqhNvdTpJngTeIgK],\n",
       " <SQLType.FLOAT: 'float'>: [qbucXskHesofamjj.mpotBNOFUFAecwjr]}"
      ]
     },
     "execution_count": 18,
     "metadata": {},
     "output_type": "execute_result"
    }
   ],
   "source": [
    "\n",
    "related_columns_classified = dict()\n",
    "for column in related_columns:\n",
    "    if not column.is_pk:\n",
    "        related_columns_classified.setdefault(column.type, []).append(column)\n",
    "related_columns_classified"
   ]
  },
  {
   "cell_type": "code",
   "execution_count": 19,
   "id": "2da0cba5",
   "metadata": {},
   "outputs": [],
   "source": [
    "for transformation in Transformation.__subclasses__():\n",
    "    pass "
   ]
  },
  {
   "cell_type": "code",
   "execution_count": 20,
   "id": "0a64ce4c",
   "metadata": {},
   "outputs": [
    {
     "data": {
      "text/plain": [
       "[qbucXskHesofamjj.kqhNvdTpJngTeIgK, qbucXskHesofamjj.mpotBNOFUFAecwjr]"
      ]
     },
     "execution_count": 20,
     "metadata": {},
     "output_type": "execute_result"
    }
   ],
   "source": [
    "chance_to_keep_column = 0.9\n",
    "columns_to_stay = [col for col in related_columns if not col.is_pk and random.random()<=chance_to_keep_column]\n",
    "columns_to_stay"
   ]
  },
  {
   "cell_type": "code",
   "execution_count": 21,
   "id": "037645e0",
   "metadata": {},
   "outputs": [
    {
     "data": {
      "text/plain": [
       "4"
      ]
     },
     "execution_count": 21,
     "metadata": {},
     "output_type": "execute_result"
    }
   ],
   "source": [
    "transformation_number_coeff = 2\n",
    "transformation_number = random.randint(0, round(transformation_number_coeff*len(related_columns)))\n",
    "transformation_number"
   ]
  },
  {
   "cell_type": "code",
   "execution_count": 22,
   "id": "5f9687ea",
   "metadata": {},
   "outputs": [
    {
     "data": {
      "text/plain": [
       "[{'transformation': src.column_transformations.tr_Length,\n",
       "  'columns': [qbucXskHesofamjj.mpotBNOFUFAecwjr],\n",
       "  'new_column_name': 'BgcnNulRwjIaMYuM'},\n",
       " {'transformation': src.column_transformations.tr_Least,\n",
       "  'columns': [qbucXskHesofamjj.rwWkAMSKZqpqUbKi,\n",
       "   qbucXskHesofamjj.rwWkAMSKZqpqUbKi],\n",
       "  'new_column_name': 'LeWFwnrYXypmTFKs'},\n",
       " {'transformation': src.column_transformations.tr_Least,\n",
       "  'columns': [qbucXskHesofamjj.rwWkAMSKZqpqUbKi,\n",
       "   qbucXskHesofamjj.mpotBNOFUFAecwjr],\n",
       "  'new_column_name': 'SEUeAEaOpfAybXsV'},\n",
       " {'transformation': src.column_transformations.tr_Greatest,\n",
       "  'columns': [qbucXskHesofamjj.kqhNvdTpJngTeIgK,\n",
       "   qbucXskHesofamjj.mpotBNOFUFAecwjr],\n",
       "  'new_column_name': 'ZVRMuBjuqUZuJIeG'}]"
      ]
     },
     "execution_count": 22,
     "metadata": {},
     "output_type": "execute_result"
    }
   ],
   "source": [
    "# for _ in range(transformation_number):\n",
    "\n",
    "\n",
    "def select_transformation(related_columns_classified: dict[SQLType, list[Column]], \n",
    "                          type_: SQLType, \n",
    "                          lower_col_number:int=1, \n",
    "                          upper_col_number:int|None=None) -> tuple[Transformation, int]:\n",
    "    \n",
    "    if upper_col_number is None: \n",
    "        upper_col_number = len(related_columns_classified[type_])\n",
    "    affected_columns = random.randint(lower_col_number, upper_col_number)\n",
    "\n",
    "    potential_transformations = []\n",
    "    min_arity = 999\n",
    "    max_arity = -1\n",
    "\n",
    "    for t in Transformation.__subclasses__():\n",
    "        if type_ in t.main_type_bounds:\n",
    "            if t.arity[0] > affected_columns or t.arity[1] != 0 and t.arity[1] < affected_columns:\n",
    "                min_arity = min(min_arity, t.arity[0])\n",
    "                max_arity = max(max_arity, t.arity[1])\n",
    "            else:\n",
    "                potential_transformations.append(t)\n",
    "    \n",
    "    if len(potential_transformations) == 0:\n",
    "        return select_transformation(related_columns_classified, type_, min_arity, max_arity)\n",
    "    else:\n",
    "        return random.choice(potential_transformations), affected_columns\n",
    "\n",
    "transformations: list[dict[str, list[Column]|Transformation]] = []\n",
    "\n",
    "for _ in range(transformation_number):\n",
    "    \n",
    "    transformation, affected_columns = select_transformation(\n",
    "        related_columns_classified,\n",
    "        random.choice([type_ for type_ in related_columns_classified])\n",
    "        )\n",
    "    transformations.append({\n",
    "        'transformation': transformation,\n",
    "        'columns': random.choices(related_columns, k=affected_columns),\n",
    "        'new_column_name': randstr()\n",
    "    })\n",
    "\n",
    "transformations\n"
   ]
  },
  {
   "cell_type": "code",
   "execution_count": 23,
   "id": "1f725d27",
   "metadata": {},
   "outputs": [
    {
     "data": {
      "text/plain": [
       "NodeView((qbucXskHesofamjj, qbucXskHesofamjj.rwWkAMSKZqpqUbKi, qbucXskHesofamjj.kqhNvdTpJngTeIgK, qbucXskHesofamjj.mpotBNOFUFAecwjr, PlBWfxTVlwFqVACx))"
      ]
     },
     "execution_count": 23,
     "metadata": {},
     "output_type": "execute_result"
    }
   ],
   "source": [
    "graph.nodes"
   ]
  },
  {
   "cell_type": "code",
   "execution_count": 24,
   "id": "703a826f",
   "metadata": {},
   "outputs": [],
   "source": [
    "\n",
    "# new_table_name\n",
    "for transformation_metadata in transformations:\n",
    "    transformation_instance = transformation_metadata['transformation']()\n",
    "    graph.add_node(transformation_instance)\n",
    "    for column in transformation_metadata['columns']:\n",
    "        graph.add_edge(column, transformation_instance, label='goes_to')\n",
    "        graph.add_edge(transformation_instance, column, label='argument')\n",
    "    resulting_column = Column(\n",
    "        name=randstr(),\n",
    "        type = transformation_metadata['transformation'].return_type,\n",
    "        table_name=new_table.name,\n",
    "    )\n",
    "    graph.add_node(resulting_column)\n",
    "    # new_col - transformation\n",
    "    graph.add_edge(resulting_column, transformation_instance, label='made_of')\n",
    "    graph.add_edge(transformation_instance, resulting_column, label='makes')\n",
    "    # new_col - new_table\n",
    "    graph.connect_table_and_column(new_table, resulting_column)\n",
    "        \n"
   ]
  },
  {
   "cell_type": "code",
   "execution_count": 25,
   "id": "fa487a8b",
   "metadata": {},
   "outputs": [
    {
     "data": {
      "text/plain": [
       "AtlasView({PlBWfxTVlwFqVACx.JlDwmHvfCRFPAuJQ: {'label': 'makes_up'}, PlBWfxTVlwFqVACx.nKzgNHjjTOLLCPMQ: {'label': 'makes_up'}, PlBWfxTVlwFqVACx.kbPBRXFihLTYgaFk: {'label': 'makes_up'}, PlBWfxTVlwFqVACx.wPQUIczEwVnYgzYS: {'label': 'makes_up'}})"
      ]
     },
     "execution_count": 25,
     "metadata": {},
     "output_type": "execute_result"
    }
   ],
   "source": [
    "graph[new_table]"
   ]
  },
  {
   "cell_type": "code",
   "execution_count": null,
   "id": "f64f194e",
   "metadata": {},
   "outputs": [],
   "source": []
  }
 ],
 "metadata": {
  "kernelspec": {
   "display_name": ".venv",
   "language": "python",
   "name": "python3"
  },
  "language_info": {
   "codemirror_mode": {
    "name": "ipython",
    "version": 3
   },
   "file_extension": ".py",
   "mimetype": "text/x-python",
   "name": "python",
   "nbconvert_exporter": "python",
   "pygments_lexer": "ipython3",
   "version": "3.12.11"
  }
 },
 "nbformat": 4,
 "nbformat_minor": 5
}
