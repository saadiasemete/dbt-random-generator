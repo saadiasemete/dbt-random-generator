{
 "cells": [
  {
   "cell_type": "code",
   "execution_count": 3,
   "id": "a9b8ef09",
   "metadata": {},
   "outputs": [],
   "source": [
    "from src import Relmap, Column, Table, propagate\n",
    "graph = Relmap()\n",
    "graph.generate_random_seeds()\n",
    "propagate(graph)"
   ]
  },
  {
   "cell_type": "code",
   "execution_count": 4,
   "id": "fe97cf8b",
   "metadata": {},
   "outputs": [
    {
     "data": {
      "text/plain": [
       "DEEVHBWjYcyspIYq"
      ]
     },
     "execution_count": 4,
     "metadata": {},
     "output_type": "execute_result"
    }
   ],
   "source": [
    "# 0. get the model\n",
    "\n",
    "model = graph.get_all_tables(kind='model')[0]\n",
    "model "
   ]
  },
  {
   "cell_type": "code",
   "execution_count": 5,
   "id": "d6a627d4",
   "metadata": {},
   "outputs": [
    {
     "data": {
      "text/plain": [
       "[DEEVHBWjYcyspIYq.FFZczqQxsCtXEBjL,\n",
       " DEEVHBWjYcyspIYq.ivHuNWQHzQvVCmFj,\n",
       " DEEVHBWjYcyspIYq.iBtqMkbNfPDmJudf,\n",
       " DEEVHBWjYcyspIYq.snTZKPWFFWoPVbUs]"
      ]
     },
     "execution_count": 5,
     "metadata": {},
     "output_type": "execute_result"
    }
   ],
   "source": [
    "# get all columns\n",
    "columns = graph.get_model_columns(model)\n",
    "columns "
   ]
  },
  {
   "cell_type": "code",
   "execution_count": 6,
   "id": "21de5599",
   "metadata": {},
   "outputs": [
    {
     "data": {
      "text/plain": [
       "DEEVHBWjYcyspIYq.FFZczqQxsCtXEBjL"
      ]
     },
     "execution_count": 6,
     "metadata": {},
     "output_type": "execute_result"
    }
   ],
   "source": [
    "column = columns[0]\n",
    "column"
   ]
  },
  {
   "cell_type": "code",
   "execution_count": 7,
   "id": "7fee4c5e",
   "metadata": {},
   "outputs": [
    {
     "name": "stdout",
     "output_type": "stream",
     "text": [
      "[<src.column_transformations.tr_Length object at 0x7fe81f4d0380>]\n"
     ]
    },
    {
     "data": {
      "text/plain": [
       "<src.column_transformations.tr_Length at 0x7fe81f4d0380>"
      ]
     },
     "execution_count": 7,
     "metadata": {},
     "output_type": "execute_result"
    }
   ],
   "source": [
    "transformation = graph.get_creating_transformation(column)\n",
    "transformation\n"
   ]
  },
  {
   "cell_type": "code",
   "execution_count": 8,
   "id": "9217c8f1",
   "metadata": {},
   "outputs": [
    {
     "data": {
      "text/plain": [
       "[qaODZVFrmBxaLLol.lLuuqmuOzBoMvMSY]"
      ]
     },
     "execution_count": 8,
     "metadata": {},
     "output_type": "execute_result"
    }
   ],
   "source": [
    "args = graph.get_transformation_arguments(transformation=transformation)\n",
    "args"
   ]
  },
  {
   "cell_type": "code",
   "execution_count": 9,
   "id": "4968abbb",
   "metadata": {},
   "outputs": [
    {
     "data": {
      "text/plain": [
       "(DEEVHBWjYcyspIYq.FFZczqQxsCtXEBjL,\n",
       " <src.column_transformations.tr_Length at 0x7fe81f4d0380>,\n",
       " [qaODZVFrmBxaLLol.lLuuqmuOzBoMvMSY])"
      ]
     },
     "execution_count": 9,
     "metadata": {},
     "output_type": "execute_result"
    }
   ],
   "source": [
    "(column, transformation, args )"
   ]
  },
  {
   "cell_type": "code",
   "execution_count": 10,
   "id": "48bb0c5b",
   "metadata": {},
   "outputs": [
    {
     "data": {
      "text/plain": [
       "Column(\n",
       "  this=Identifier(this=FFZczqQxsCtXEBjL),\n",
       "  table=Identifier(this=DEEVHBWjYcyspIYq))"
      ]
     },
     "execution_count": 10,
     "metadata": {},
     "output_type": "execute_result"
    }
   ],
   "source": [
    "column.to_sqlglot_column()"
   ]
  },
  {
   "cell_type": "code",
   "execution_count": 11,
   "id": "0aa7200a",
   "metadata": {},
   "outputs": [],
   "source": [
    "from sqlglot import expressions as exp"
   ]
  },
  {
   "cell_type": "code",
   "execution_count": 12,
   "id": "1874e3c6",
   "metadata": {},
   "outputs": [
    {
     "data": {
      "text/plain": [
       "Length(\n",
       "  this=Column(\n",
       "    this=Identifier(this=lLuuqmuOzBoMvMSY),\n",
       "    table=Identifier(this=qaODZVFrmBxaLLol)))"
      ]
     },
     "execution_count": 12,
     "metadata": {},
     "output_type": "execute_result"
    }
   ],
   "source": [
    "rendered_tr = transformation.build_expr(\n",
    "    #expressions=[arg.to_sqlglot_column() for arg in args]\n",
    "    args = [arg.to_sqlglot_column() for arg in args]\n",
    ")\n",
    "rendered_tr"
   ]
  },
  {
   "cell_type": "code",
   "execution_count": 13,
   "id": "645717ec",
   "metadata": {},
   "outputs": [
    {
     "data": {
      "text/plain": [
       "'LENGTH(qaODZVFrmBxaLLol.lLuuqmuOzBoMvMSY)'"
      ]
     },
     "execution_count": 13,
     "metadata": {},
     "output_type": "execute_result"
    }
   ],
   "source": [
    "rendered_tr.sql()"
   ]
  },
  {
   "cell_type": "code",
   "execution_count": 25,
   "id": "993d8300",
   "metadata": {},
   "outputs": [
    {
     "data": {
      "text/plain": [
       "Alias(\n",
       "  this=Select(\n",
       "    expressions=[\n",
       "      Alias(\n",
       "        this=Length(\n",
       "          this=Column(\n",
       "            this=Identifier(this=lLuuqmuOzBoMvMSY),\n",
       "            table=Identifier(this=qaODZVFrmBxaLLol))),\n",
       "        alias=Identifier(this=FFZczqQxsCtXEBjL, quoted=False))],\n",
       "    from=From(\n",
       "      this=Table(\n",
       "        this=Identifier(this={{ ref('qaODZVFrmBxaLLol') }})))),\n",
       "  alias=Identifier(this=qaODZVFrmBxaLLol, quoted=False))"
      ]
     },
     "execution_count": 25,
     "metadata": {},
     "output_type": "execute_result"
    }
   ],
   "source": [
    "dbt_ref = ''.join([   \n",
    "        \"{{ ref('\",\n",
    "        args[0].table.name,\n",
    "        \"') }}\",\n",
    "    ])\n",
    "\n",
    "select_expr = exp.Select().select(\n",
    "    rendered_tr.as_(column.name)\n",
    ").from_(\n",
    "    exp.Table(this=exp.Identifier(this=dbt_ref))\n",
    ").as_(args[0].table.name)\n",
    "select_expr"
   ]
  },
  {
   "cell_type": "code",
   "execution_count": 26,
   "id": "c74b4b5d",
   "metadata": {},
   "outputs": [
    {
     "data": {
      "text/plain": [
       "\"SELECT LENGTH(qaODZVFrmBxaLLol.lLuuqmuOzBoMvMSY) AS FFZczqQxsCtXEBjL FROM {{ ref('qaODZVFrmBxaLLol') }} AS qaODZVFrmBxaLLol\""
      ]
     },
     "execution_count": 26,
     "metadata": {},
     "output_type": "execute_result"
    }
   ],
   "source": [
    "select_expr.sql()"
   ]
  },
  {
   "cell_type": "code",
   "execution_count": null,
   "id": "4b57e5a0",
   "metadata": {},
   "outputs": [],
   "source": []
  }
 ],
 "metadata": {
  "kernelspec": {
   "display_name": ".venv",
   "language": "python",
   "name": "python3"
  },
  "language_info": {
   "codemirror_mode": {
    "name": "ipython",
    "version": 3
   },
   "file_extension": ".py",
   "mimetype": "text/x-python",
   "name": "python",
   "nbconvert_exporter": "python",
   "pygments_lexer": "ipython3",
   "version": "3.12.11"
  }
 },
 "nbformat": 4,
 "nbformat_minor": 5
}
