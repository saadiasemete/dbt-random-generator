{
 "cells": [
  {
   "cell_type": "code",
   "execution_count": 20,
   "id": "a9b8ef09",
   "metadata": {},
   "outputs": [],
   "source": [
    "from src import Relmap, Column, Table, propagate\n",
    "graph = Relmap()\n",
    "graph.generate_random_seeds()\n",
    "propagate(graph)"
   ]
  },
  {
   "cell_type": "code",
   "execution_count": 21,
   "id": "fe97cf8b",
   "metadata": {},
   "outputs": [
    {
     "data": {
      "text/plain": [
       "jQiXYZQMoLgNPxmY"
      ]
     },
     "execution_count": 21,
     "metadata": {},
     "output_type": "execute_result"
    }
   ],
   "source": [
    "# 0. get the model\n",
    "\n",
    "model = graph.get_all_tables(kind='model')[0]\n",
    "model "
   ]
  },
  {
   "cell_type": "code",
   "execution_count": 22,
   "id": "d6a627d4",
   "metadata": {},
   "outputs": [
    {
     "data": {
      "text/plain": [
       "[jQiXYZQMoLgNPxmY.HZAJxDEsItvGaaui,\n",
       " jQiXYZQMoLgNPxmY.FDZYrleQgdyfFKsh,\n",
       " jQiXYZQMoLgNPxmY.qAyeeTHvMfXqShuc,\n",
       " jQiXYZQMoLgNPxmY.DaFcCqovYHNkCoFw,\n",
       " jQiXYZQMoLgNPxmY.nYdOwerssqmDltNS]"
      ]
     },
     "execution_count": 22,
     "metadata": {},
     "output_type": "execute_result"
    }
   ],
   "source": [
    "# get all columns\n",
    "columns = graph.get_model_columns(model)\n",
    "columns "
   ]
  },
  {
   "cell_type": "code",
   "execution_count": 23,
   "id": "21de5599",
   "metadata": {},
   "outputs": [
    {
     "data": {
      "text/plain": [
       "jQiXYZQMoLgNPxmY.HZAJxDEsItvGaaui"
      ]
     },
     "execution_count": 23,
     "metadata": {},
     "output_type": "execute_result"
    }
   ],
   "source": [
    "column = columns[0]\n",
    "column"
   ]
  },
  {
   "cell_type": "code",
   "execution_count": 24,
   "id": "7fee4c5e",
   "metadata": {},
   "outputs": [
    {
     "name": "stdout",
     "output_type": "stream",
     "text": [
      "[<src.column_transformations.tr_Least object at 0x74b5d025aa20>]\n"
     ]
    },
    {
     "data": {
      "text/plain": [
       "<src.column_transformations.tr_Least at 0x74b5d025aa20>"
      ]
     },
     "execution_count": 24,
     "metadata": {},
     "output_type": "execute_result"
    }
   ],
   "source": [
    "transformation = graph.get_creating_transformation(column)\n",
    "transformation\n"
   ]
  },
  {
   "cell_type": "code",
   "execution_count": 25,
   "id": "9217c8f1",
   "metadata": {},
   "outputs": [
    {
     "data": {
      "text/plain": [
       "[xeIzvPMNiwhdfovV.jMhKMaTDbPCfplVe, xeIzvPMNiwhdfovV.JWWjhGDTeVOftVoa]"
      ]
     },
     "execution_count": 25,
     "metadata": {},
     "output_type": "execute_result"
    }
   ],
   "source": [
    "args = graph.get_transformation_arguments(transformation=transformation)\n",
    "args"
   ]
  },
  {
   "cell_type": "code",
   "execution_count": 26,
   "id": "4968abbb",
   "metadata": {},
   "outputs": [
    {
     "data": {
      "text/plain": [
       "(jQiXYZQMoLgNPxmY.HZAJxDEsItvGaaui,\n",
       " <src.column_transformations.tr_Least at 0x74b5d025aa20>,\n",
       " [xeIzvPMNiwhdfovV.jMhKMaTDbPCfplVe, xeIzvPMNiwhdfovV.JWWjhGDTeVOftVoa])"
      ]
     },
     "execution_count": 26,
     "metadata": {},
     "output_type": "execute_result"
    }
   ],
   "source": [
    "(column, transformation, args )"
   ]
  },
  {
   "cell_type": "code",
   "execution_count": 27,
   "id": "48bb0c5b",
   "metadata": {},
   "outputs": [
    {
     "data": {
      "text/plain": [
       "Column(\n",
       "  this=Identifier(this=HZAJxDEsItvGaaui),\n",
       "  table=Identifier(this=jQiXYZQMoLgNPxmY))"
      ]
     },
     "execution_count": 27,
     "metadata": {},
     "output_type": "execute_result"
    }
   ],
   "source": [
    "column.to_sqlglot_column()"
   ]
  },
  {
   "cell_type": "code",
   "execution_count": 28,
   "id": "0aa7200a",
   "metadata": {},
   "outputs": [],
   "source": [
    "from sqlglot import expressions as exp"
   ]
  },
  {
   "cell_type": "code",
   "execution_count": 29,
   "id": "1874e3c6",
   "metadata": {},
   "outputs": [
    {
     "data": {
      "text/plain": [
       "Least(\n",
       "  expressions=[\n",
       "    Column(\n",
       "      this=Identifier(this=jMhKMaTDbPCfplVe),\n",
       "      table=Identifier(this=xeIzvPMNiwhdfovV)),\n",
       "    Column(\n",
       "      this=Identifier(this=JWWjhGDTeVOftVoa),\n",
       "      table=Identifier(this=xeIzvPMNiwhdfovV))])"
      ]
     },
     "execution_count": 29,
     "metadata": {},
     "output_type": "execute_result"
    }
   ],
   "source": [
    "rendered_tr = transformation.build_expr(\n",
    "    #expressions=[arg.to_sqlglot_column() for arg in args]\n",
    "    args = [arg.to_sqlglot_column() for arg in args]\n",
    ")\n",
    "rendered_tr"
   ]
  },
  {
   "cell_type": "code",
   "execution_count": 30,
   "id": "645717ec",
   "metadata": {},
   "outputs": [
    {
     "data": {
      "text/plain": [
       "'LEAST(xeIzvPMNiwhdfovV.jMhKMaTDbPCfplVe, xeIzvPMNiwhdfovV.JWWjhGDTeVOftVoa)'"
      ]
     },
     "execution_count": 30,
     "metadata": {},
     "output_type": "execute_result"
    }
   ],
   "source": [
    "rendered_tr.sql()"
   ]
  },
  {
   "cell_type": "code",
   "execution_count": 33,
   "id": "993d8300",
   "metadata": {},
   "outputs": [
    {
     "data": {
      "text/plain": [
       "Select(\n",
       "  expressions=[\n",
       "    Alias(\n",
       "      this=Least(\n",
       "        expressions=[\n",
       "          Column(\n",
       "            this=Identifier(this=jMhKMaTDbPCfplVe),\n",
       "            table=Identifier(this=xeIzvPMNiwhdfovV)),\n",
       "          Column(\n",
       "            this=Identifier(this=JWWjhGDTeVOftVoa),\n",
       "            table=Identifier(this=xeIzvPMNiwhdfovV))]),\n",
       "      alias=Identifier(this=HZAJxDEsItvGaaui, quoted=False))],\n",
       "  from=From(\n",
       "    this=Table(\n",
       "      this=Identifier(this=xeIzvPMNiwhdfovV))))"
      ]
     },
     "execution_count": 33,
     "metadata": {},
     "output_type": "execute_result"
    }
   ],
   "source": [
    "select_expr = exp.Select().select(\n",
    "    rendered_tr.as_(column.name)\n",
    ").from_(\n",
    "    exp.Table(this=exp.Identifier(this=args[0].table.name))\n",
    ")\n",
    "select_expr"
   ]
  },
  {
   "cell_type": "code",
   "execution_count": 34,
   "id": "c74b4b5d",
   "metadata": {},
   "outputs": [
    {
     "data": {
      "text/plain": [
       "'SELECT LEAST(xeIzvPMNiwhdfovV.jMhKMaTDbPCfplVe, xeIzvPMNiwhdfovV.JWWjhGDTeVOftVoa) AS HZAJxDEsItvGaaui FROM xeIzvPMNiwhdfovV'"
      ]
     },
     "execution_count": 34,
     "metadata": {},
     "output_type": "execute_result"
    }
   ],
   "source": [
    "select_expr.sql()"
   ]
  },
  {
   "cell_type": "code",
   "execution_count": null,
   "id": "3c4feb81",
   "metadata": {},
   "outputs": [],
   "source": []
  }
 ],
 "metadata": {
  "kernelspec": {
   "display_name": ".venv",
   "language": "python",
   "name": "python3"
  },
  "language_info": {
   "codemirror_mode": {
    "name": "ipython",
    "version": 3
   },
   "file_extension": ".py",
   "mimetype": "text/x-python",
   "name": "python",
   "nbconvert_exporter": "python",
   "pygments_lexer": "ipython3",
   "version": "3.12.11"
  }
 },
 "nbformat": 4,
 "nbformat_minor": 5
}
