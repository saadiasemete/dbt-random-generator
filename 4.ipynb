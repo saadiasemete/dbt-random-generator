{
 "cells": [
  {
   "cell_type": "code",
   "execution_count": 1,
   "id": "a9b8ef09",
   "metadata": {},
   "outputs": [],
   "source": [
    "from src import Relmap, Column, Table, propagate\n",
    "graph = Relmap()\n",
    "graph.generate_random_seeds()\n",
    "propagate(graph)"
   ]
  },
  {
   "cell_type": "code",
   "execution_count": 2,
   "id": "fe97cf8b",
   "metadata": {},
   "outputs": [
    {
     "data": {
      "text/plain": [
       "ouZdJHTBrVmRVZgi"
      ]
     },
     "execution_count": 2,
     "metadata": {},
     "output_type": "execute_result"
    }
   ],
   "source": [
    "# 0. get the model\n",
    "\n",
    "model = graph.get_all_tables(kind='model')[0]\n",
    "model "
   ]
  },
  {
   "cell_type": "code",
   "execution_count": 3,
   "id": "d6a627d4",
   "metadata": {},
   "outputs": [
    {
     "data": {
      "text/plain": [
       "[ouZdJHTBrVmRVZgi.gJkhFvOjppqhdzJu]"
      ]
     },
     "execution_count": 3,
     "metadata": {},
     "output_type": "execute_result"
    }
   ],
   "source": [
    "# get all columns\n",
    "columns = graph.get_model_columns(model)\n",
    "columns "
   ]
  },
  {
   "cell_type": "code",
   "execution_count": 4,
   "id": "21de5599",
   "metadata": {},
   "outputs": [
    {
     "data": {
      "text/plain": [
       "ouZdJHTBrVmRVZgi.gJkhFvOjppqhdzJu"
      ]
     },
     "execution_count": 4,
     "metadata": {},
     "output_type": "execute_result"
    }
   ],
   "source": [
    "column = columns[0]\n",
    "column"
   ]
  },
  {
   "cell_type": "code",
   "execution_count": 5,
   "id": "7fee4c5e",
   "metadata": {},
   "outputs": [
    {
     "name": "stdout",
     "output_type": "stream",
     "text": [
      "[<src.column_transformations.tr_Least object at 0x717f747ac6e0>]\n"
     ]
    },
    {
     "data": {
      "text/plain": [
       "<src.column_transformations.tr_Least at 0x717f747ac6e0>"
      ]
     },
     "execution_count": 5,
     "metadata": {},
     "output_type": "execute_result"
    }
   ],
   "source": [
    "transformation = graph.get_creating_transformation(column)\n",
    "transformation\n"
   ]
  },
  {
   "cell_type": "code",
   "execution_count": 6,
   "id": "9217c8f1",
   "metadata": {},
   "outputs": [
    {
     "data": {
      "text/plain": [
       "[CDCBfeHJAkQCLtux.dEfnKbOxSzGDfLLc, CDCBfeHJAkQCLtux.WvnsQqAKSBuKRmJq]"
      ]
     },
     "execution_count": 6,
     "metadata": {},
     "output_type": "execute_result"
    }
   ],
   "source": [
    "args = graph.get_transformation_arguments(transformation=transformation)\n",
    "args"
   ]
  },
  {
   "cell_type": "code",
   "execution_count": 7,
   "id": "4968abbb",
   "metadata": {},
   "outputs": [
    {
     "data": {
      "text/plain": [
       "(ouZdJHTBrVmRVZgi.gJkhFvOjppqhdzJu,\n",
       " <src.column_transformations.tr_Least at 0x717f747ac6e0>,\n",
       " [CDCBfeHJAkQCLtux.dEfnKbOxSzGDfLLc, CDCBfeHJAkQCLtux.WvnsQqAKSBuKRmJq])"
      ]
     },
     "execution_count": 7,
     "metadata": {},
     "output_type": "execute_result"
    }
   ],
   "source": [
    "(column, transformation, args )"
   ]
  },
  {
   "cell_type": "code",
   "execution_count": 8,
   "id": "48bb0c5b",
   "metadata": {},
   "outputs": [
    {
     "data": {
      "text/plain": [
       "Column(\n",
       "  this=Identifier(this=gJkhFvOjppqhdzJu),\n",
       "  table=Identifier(this=ouZdJHTBrVmRVZgi))"
      ]
     },
     "execution_count": 8,
     "metadata": {},
     "output_type": "execute_result"
    }
   ],
   "source": [
    "column.to_sqlglot_column()"
   ]
  },
  {
   "cell_type": "code",
   "execution_count": 9,
   "id": "0aa7200a",
   "metadata": {},
   "outputs": [],
   "source": [
    "from sqlglot import expressions as exp"
   ]
  },
  {
   "cell_type": "code",
   "execution_count": 10,
   "id": "1874e3c6",
   "metadata": {},
   "outputs": [
    {
     "data": {
      "text/plain": [
       "Least(\n",
       "  expressions=[\n",
       "    Column(\n",
       "      this=Identifier(this=dEfnKbOxSzGDfLLc),\n",
       "      table=Identifier(this=CDCBfeHJAkQCLtux)),\n",
       "    Column(\n",
       "      this=Identifier(this=WvnsQqAKSBuKRmJq),\n",
       "      table=Identifier(this=CDCBfeHJAkQCLtux))])"
      ]
     },
     "execution_count": 10,
     "metadata": {},
     "output_type": "execute_result"
    }
   ],
   "source": [
    "rendered_tr = transformation.build_expr(\n",
    "    #expressions=[arg.to_sqlglot_column() for arg in args]\n",
    "    args = [arg.to_sqlglot_column() for arg in args]\n",
    ")\n",
    "rendered_tr"
   ]
  },
  {
   "cell_type": "code",
   "execution_count": 11,
   "id": "645717ec",
   "metadata": {},
   "outputs": [
    {
     "data": {
      "text/plain": [
       "'LEAST(CDCBfeHJAkQCLtux.dEfnKbOxSzGDfLLc, CDCBfeHJAkQCLtux.WvnsQqAKSBuKRmJq)'"
      ]
     },
     "execution_count": 11,
     "metadata": {},
     "output_type": "execute_result"
    }
   ],
   "source": [
    "rendered_tr.sql()"
   ]
  },
  {
   "cell_type": "code",
   "execution_count": 18,
   "id": "993d8300",
   "metadata": {},
   "outputs": [
    {
     "data": {
      "text/plain": [
       "Alias(\n",
       "  this=Select(\n",
       "    expressions=[\n",
       "      Alias(\n",
       "        this=Least(\n",
       "          expressions=[\n",
       "            Column(\n",
       "              this=Identifier(this=dEfnKbOxSzGDfLLc),\n",
       "              table=Identifier(this=CDCBfeHJAkQCLtux)),\n",
       "            Column(\n",
       "              this=Identifier(this=WvnsQqAKSBuKRmJq),\n",
       "              table=Identifier(this=CDCBfeHJAkQCLtux))]),\n",
       "        alias=Identifier(this=gJkhFvOjppqhdzJu, quoted=False))],\n",
       "    from=From(\n",
       "      this=Table(\n",
       "        this=Identifier(this={{ ref('CDCBfeHJAkQCLtux') }})))),\n",
       "  alias=Identifier(this=CDCBfeHJAkQCLtux, quoted=False))"
      ]
     },
     "execution_count": 18,
     "metadata": {},
     "output_type": "execute_result"
    }
   ],
   "source": [
    "ancestors = set([i.table for i in args])\n",
    "\n",
    "# TODO: several ancestors & join logic\n",
    "\n",
    "ancestor = ancestors.pop()\n",
    "\n",
    "\n",
    "select_expr = exp.Select().select(\n",
    "    rendered_tr.as_(column.name)\n",
    ").from_(\n",
    "    exp.Table(this=exp.Identifier(this=ancestor.dbt_ref()))\n",
    ").as_(ancestor.name)\n",
    "select_expr"
   ]
  },
  {
   "cell_type": "code",
   "execution_count": 19,
   "id": "c74b4b5d",
   "metadata": {},
   "outputs": [
    {
     "data": {
      "text/plain": [
       "\"SELECT LEAST(CDCBfeHJAkQCLtux.dEfnKbOxSzGDfLLc, CDCBfeHJAkQCLtux.WvnsQqAKSBuKRmJq) AS gJkhFvOjppqhdzJu FROM {{ ref('CDCBfeHJAkQCLtux') }} AS CDCBfeHJAkQCLtux\""
      ]
     },
     "execution_count": 19,
     "metadata": {},
     "output_type": "execute_result"
    }
   ],
   "source": [
    "select_expr.sql()"
   ]
  },
  {
   "cell_type": "code",
   "execution_count": null,
   "id": "4b57e5a0",
   "metadata": {},
   "outputs": [],
   "source": []
  }
 ],
 "metadata": {
  "kernelspec": {
   "display_name": ".venv",
   "language": "python",
   "name": "python3"
  },
  "language_info": {
   "codemirror_mode": {
    "name": "ipython",
    "version": 3
   },
   "file_extension": ".py",
   "mimetype": "text/x-python",
   "name": "python",
   "nbconvert_exporter": "python",
   "pygments_lexer": "ipython3",
   "version": "3.12.11"
  }
 },
 "nbformat": 4,
 "nbformat_minor": 5
}
